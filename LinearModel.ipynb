{
 "cells": [
  {
   "cell_type": "markdown",
   "id": "166bcd97",
   "metadata": {},
   "source": [
    "# My 1st Linear Regression Model"
   ]
  },
  {
   "cell_type": "code",
   "execution_count": 341,
   "id": "bb8c9935",
   "metadata": {},
   "outputs": [],
   "source": [
    "import statistics as stats\n",
    "import numpy as np\n",
    "\n",
    "class LinearModel:\n",
    "    \n",
    "    def find_coef(self, x, y):\n",
    "\n",
    "       # Calculates the slope of the curve\n",
    "        \n",
    "        self.x = x\n",
    "        self.y = y\n",
    "        \n",
    "        if type(x) == 'pandas.core.frame.DataFrame':\n",
    "            hh = np.array(x)\n",
    "            t = np.ndarray.tolist(hh)\n",
    "            \n",
    "        if type(x) == 'numpy.ndarray':\n",
    "            t = np.ndarray.tolist(x)\n",
    "            \n",
    "            \n",
    "        np_x = np.array(x)\n",
    "        np_y = np.array(y)\n",
    "        cov = np.cov(np_x, np_y) [0][1]\n",
    "        \n",
    "        return cov/stats.variance(x)\n",
    "    \n",
    "    def intercept(self, x, y):\n",
    "        \n",
    "        # Calculates the intercept of the curve\n",
    "        self.x = x\n",
    "        self.y = y\n",
    "        \n",
    "        if type(x) == 'pandas.core.frame.DataFrame':\n",
    "            hh = np.array(x)\n",
    "            t = np.ndarray.tolist(hh)\n",
    "            \n",
    "        if type(x) == 'numpy.ndarray':\n",
    "            t = np.ndarray.tolist(x)\n",
    "            \n",
    "        np_x = np.array(x)\n",
    "        np_y = np.array(y)\n",
    "        \n",
    "        cov = np.cov(np_x, np_y) [0][1]\n",
    "        coef = cov/stats.variance(x)\n",
    "        \n",
    "        mean_x = stats.mean(x)\n",
    "        mean_y = stats.mean(y)\n",
    "        take = mean_y - (coef * mean_x)\n",
    "        \n",
    "        return round(take, 3)\n",
    "    \n",
    "    def predict(self, x, y):\n",
    "        \n",
    "        # Based on the linear regression model, it predicts the dependent variable from given independent variable data \n",
    "        \n",
    "        self.x = x\n",
    "        self.y = y\n",
    "        \n",
    "        if type(x) == 'pandas.core.frame.DataFrame':\n",
    "            hh = np.array(x)\n",
    "            t = np.ndarray.tolist(hh)\n",
    "            \n",
    "        if type(x) == 'numpy.ndarray':\n",
    "            t = np.ndarray.tolist(x)\n",
    "            \n",
    "        np_x = np.array(x)\n",
    "        np_y = np.array(y)\n",
    "        \n",
    "        cov = np.cov(np_x, np_y) [0][1]\n",
    "        coef = cov/stats.variance(x)\n",
    "        \n",
    "        mean_x = stats.mean(x)\n",
    "        mean_y = stats.mean(y)\n",
    "        \n",
    "        intercept = mean_y - (coef * mean_x)\n",
    "        \n",
    "        result = []\n",
    "        \n",
    "        for i in x:\n",
    "            result.append((coef * i) + intercept)\n",
    "        \n",
    "        if type(x) == 'pandas.core.frame.DataFrame' or 'numpy.ndarray':\n",
    "            hh = np.array(result)\n",
    "            \n",
    "        return result\n",
    "    \n",
    "\n",
    "    def r_sq(self, x, y):\n",
    "        \n",
    "        # Calculates R^2 value for given data\n",
    "        \n",
    "        self.x = x\n",
    "        self.y = y\n",
    "        \n",
    "        if type(x) == 'pandas.core.frame.DataFrame':\n",
    "            hh = np.array(x)\n",
    "            t = np.ndarray.tolist(hh)\n",
    "            \n",
    "        if type(x) == 'numpy.ndarray':\n",
    "            t = np.ndarray.tolist(x)\n",
    "            \n",
    "        np_x = np.array(x)\n",
    "        np_y = np.array(y)\n",
    "        \n",
    "        corr = np.corrcoef(np_x, np_y) [0] [1]\n",
    "        \n",
    "        return corr ** 2\n",
    "        \n",
    "    "
   ]
  },
  {
   "cell_type": "code",
   "execution_count": 342,
   "id": "d138f0a4",
   "metadata": {},
   "outputs": [],
   "source": [
    "import pandas as pd\n",
    "import seaborn as sns\n",
    "import matplotlib.pyplot as plt"
   ]
  },
  {
   "cell_type": "code",
   "execution_count": 343,
   "id": "98eda2eb",
   "metadata": {},
   "outputs": [],
   "source": [
    "df = pd.read_csv(\"dataset.csv\")\n",
    "del df[\"Data_Point\"]"
   ]
  },
  {
   "cell_type": "code",
   "execution_count": 344,
   "id": "00d12d2a",
   "metadata": {},
   "outputs": [
    {
     "data": {
      "text/html": [
       "<div>\n",
       "<style scoped>\n",
       "    .dataframe tbody tr th:only-of-type {\n",
       "        vertical-align: middle;\n",
       "    }\n",
       "\n",
       "    .dataframe tbody tr th {\n",
       "        vertical-align: top;\n",
       "    }\n",
       "\n",
       "    .dataframe thead th {\n",
       "        text-align: right;\n",
       "    }\n",
       "</style>\n",
       "<table border=\"1\" class=\"dataframe\">\n",
       "  <thead>\n",
       "    <tr style=\"text-align: right;\">\n",
       "      <th></th>\n",
       "      <th>Rat_Weight_(g)</th>\n",
       "      <th>Rat_Height_(cm)</th>\n",
       "    </tr>\n",
       "  </thead>\n",
       "  <tbody>\n",
       "    <tr>\n",
       "      <th>0</th>\n",
       "      <td>34.1</td>\n",
       "      <td>56.2</td>\n",
       "    </tr>\n",
       "    <tr>\n",
       "      <th>1</th>\n",
       "      <td>37.2</td>\n",
       "      <td>72.1</td>\n",
       "    </tr>\n",
       "    <tr>\n",
       "      <th>2</th>\n",
       "      <td>32.1</td>\n",
       "      <td>51.9</td>\n",
       "    </tr>\n",
       "    <tr>\n",
       "      <th>3</th>\n",
       "      <td>33.2</td>\n",
       "      <td>55.1</td>\n",
       "    </tr>\n",
       "    <tr>\n",
       "      <th>4</th>\n",
       "      <td>39.1</td>\n",
       "      <td>75.2</td>\n",
       "    </tr>\n",
       "    <tr>\n",
       "      <th>5</th>\n",
       "      <td>36.6</td>\n",
       "      <td>69.1</td>\n",
       "    </tr>\n",
       "    <tr>\n",
       "      <th>6</th>\n",
       "      <td>34.8</td>\n",
       "      <td>60.1</td>\n",
       "    </tr>\n",
       "    <tr>\n",
       "      <th>7</th>\n",
       "      <td>30.2</td>\n",
       "      <td>34.5</td>\n",
       "    </tr>\n",
       "    <tr>\n",
       "      <th>8</th>\n",
       "      <td>29.2</td>\n",
       "      <td>32.1</td>\n",
       "    </tr>\n",
       "  </tbody>\n",
       "</table>\n",
       "</div>"
      ],
      "text/plain": [
       "   Rat_Weight_(g)  Rat_Height_(cm)\n",
       "0            34.1             56.2\n",
       "1            37.2             72.1\n",
       "2            32.1             51.9\n",
       "3            33.2             55.1\n",
       "4            39.1             75.2\n",
       "5            36.6             69.1\n",
       "6            34.8             60.1\n",
       "7            30.2             34.5\n",
       "8            29.2             32.1"
      ]
     },
     "execution_count": 344,
     "metadata": {},
     "output_type": "execute_result"
    }
   ],
   "source": [
    "df"
   ]
  },
  {
   "cell_type": "code",
   "execution_count": 345,
   "id": "fd1ca43d",
   "metadata": {},
   "outputs": [
    {
     "data": {
      "image/png": "[encoded data removed]",
      "text/plain": [
       "<Figure size 640x480 with 1 Axes>"
      ]
     },
     "metadata": {},
     "output_type": "display_data"
    }
   ],
   "source": [
    "xs = df[\"Rat_Weight_(g)\"]\n",
    "ys = df[\"Rat_Height_(cm)\"]\n",
    "\n",
    "xs, ys = zip(*sorted(zip(xs, ys)))\n",
    "\n",
    "plt.plot(xs, ys, 'o')\n",
    "plt.show()"
   ]
  },
  {
   "cell_type": "code",
   "execution_count": 346,
   "id": "a6aa739b",
   "metadata": {},
   "outputs": [],
   "source": [
    "regr = LinearModel()"
   ]
  },
  {
   "cell_type": "code",
   "execution_count": 347,
   "id": "fbfbb0d5",
   "metadata": {},
   "outputs": [
    {
     "name": "stdout",
     "output_type": "stream",
     "text": [
      "The slope is 4.58753546976284\n",
      "The intercept is -99.976\n",
      "The R^2 is 0.9623349828370533\n"
     ]
    }
   ],
   "source": [
    "print(\"The slope is \" + str(regr.find_coef(df[\"Rat_Weight_(g)\"], df[\"Rat_Height_(cm)\"])))\n",
    "print(\"The intercept is \" + str(regr.intercept(df[\"Rat_Weight_(g)\"], df[\"Rat_Height_(cm)\"])))  \n",
    "print(\"The R^2 is \" + str(regr.r_sq(df[\"Rat_Weight_(g)\"], df[\"Rat_Height_(cm)\"])))  "
   ]
  },
  {
   "cell_type": "code",
   "execution_count": 348,
   "id": "811f4516",
   "metadata": {},
   "outputs": [],
   "source": [
    "Predicted_Data = regr.predict(df[\"Rat_Weight_(g)\"], df[\"Rat_Height_(cm)\"])\n",
    "df[\"Predicted\"] = Predicted_Data"
   ]
  },
  {
   "cell_type": "code",
   "execution_count": 349,
   "id": "2672b2e2",
   "metadata": {},
   "outputs": [
    {
     "data": {
      "text/html": [
       "<div>\n",
       "<style scoped>\n",
       "    .dataframe tbody tr th:only-of-type {\n",
       "        vertical-align: middle;\n",
       "    }\n",
       "\n",
       "    .dataframe tbody tr th {\n",
       "        vertical-align: top;\n",
       "    }\n",
       "\n",
       "    .dataframe thead th {\n",
       "        text-align: right;\n",
       "    }\n",
       "</style>\n",
       "<table border=\"1\" class=\"dataframe\">\n",
       "  <thead>\n",
       "    <tr style=\"text-align: right;\">\n",
       "      <th></th>\n",
       "      <th>Rat_Weight_(g)</th>\n",
       "      <th>Rat_Height_(cm)</th>\n",
       "      <th>Predicted</th>\n",
       "    </tr>\n",
       "  </thead>\n",
       "  <tbody>\n",
       "    <tr>\n",
       "      <th>0</th>\n",
       "      <td>34.1</td>\n",
       "      <td>56.2</td>\n",
       "      <td>56.459446</td>\n",
       "    </tr>\n",
       "    <tr>\n",
       "      <th>1</th>\n",
       "      <td>37.2</td>\n",
       "      <td>72.1</td>\n",
       "      <td>70.680806</td>\n",
       "    </tr>\n",
       "    <tr>\n",
       "      <th>2</th>\n",
       "      <td>32.1</td>\n",
       "      <td>51.9</td>\n",
       "      <td>47.284375</td>\n",
       "    </tr>\n",
       "    <tr>\n",
       "      <th>3</th>\n",
       "      <td>33.2</td>\n",
       "      <td>55.1</td>\n",
       "      <td>52.330664</td>\n",
       "    </tr>\n",
       "    <tr>\n",
       "      <th>4</th>\n",
       "      <td>39.1</td>\n",
       "      <td>75.2</td>\n",
       "      <td>79.397123</td>\n",
       "    </tr>\n",
       "    <tr>\n",
       "      <th>5</th>\n",
       "      <td>36.6</td>\n",
       "      <td>69.1</td>\n",
       "      <td>67.928285</td>\n",
       "    </tr>\n",
       "    <tr>\n",
       "      <th>6</th>\n",
       "      <td>34.8</td>\n",
       "      <td>60.1</td>\n",
       "      <td>59.670721</td>\n",
       "    </tr>\n",
       "    <tr>\n",
       "      <th>7</th>\n",
       "      <td>30.2</td>\n",
       "      <td>34.5</td>\n",
       "      <td>38.568058</td>\n",
       "    </tr>\n",
       "    <tr>\n",
       "      <th>8</th>\n",
       "      <td>29.2</td>\n",
       "      <td>32.1</td>\n",
       "      <td>33.980522</td>\n",
       "    </tr>\n",
       "  </tbody>\n",
       "</table>\n",
       "</div>"
      ],
      "text/plain": [
       "   Rat_Weight_(g)  Rat_Height_(cm)  Predicted\n",
       "0            34.1             56.2  56.459446\n",
       "1            37.2             72.1  70.680806\n",
       "2            32.1             51.9  47.284375\n",
       "3            33.2             55.1  52.330664\n",
       "4            39.1             75.2  79.397123\n",
       "5            36.6             69.1  67.928285\n",
       "6            34.8             60.1  59.670721\n",
       "7            30.2             34.5  38.568058\n",
       "8            29.2             32.1  33.980522"
      ]
     },
     "execution_count": 349,
     "metadata": {},
     "output_type": "execute_result"
    }
   ],
   "source": [
    "df"
   ]
  },
  {
   "cell_type": "code",
   "execution_count": 350,
   "id": "8f4fe0d1",
   "metadata": {},
   "outputs": [
    {
     "data": {
      "image/png": "[encoded data removed]",
      "text/plain": [
       "<Figure size 640x480 with 1 Axes>"
      ]
     },
     "metadata": {},
     "output_type": "display_data"
    }
   ],
   "source": [
    "xs = df[\"Rat_Weight_(g)\"]\n",
    "ys = df[\"Rat_Height_(cm)\"]\n",
    "zs = df[\"Predicted\"]\n",
    "\n",
    "xs, ys, zs = zip(*sorted(zip(xs, ys, zs)))\n",
    "\n",
    "plt.plot(xs, ys, 'o', label = \"Given data\")\n",
    "plt.plot(xs, zs, label = \"Predicted\")\n",
    "plt.legend()\n",
    "plt.show()"
   ]
  }
 ],
 "metadata": {
  "kernelspec": {
   "display_name": "Python 3 (ipykernel)",
   "language": "python",
   "name": "python3"
  },
  "language_info": {
   "codemirror_mode": {
    "name": "ipython",
    "version": 3
   },
   "file_extension": ".py",
   "mimetype": "text/x-python",
   "name": "python",
   "nbconvert_exporter": "python",
   "pygments_lexer": "ipython3",
   "version": "3.9.13"
  }
 },
 "nbformat": 4,
 "nbformat_minor": 5
}
