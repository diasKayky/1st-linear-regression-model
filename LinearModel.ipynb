{
 "cells": [
  {
   "cell_type": "code",
   "execution_count": 11,
   "id": "0c2ba167",
   "metadata": {},
   "outputs": [],
   "source": [
    "from LinearM import LinearRegression\n",
    "import pandas as pd\n",
    "import matplotlib.pyplot as plt\n",
    "\n",
    "regr = LinearRegression()"
   ]
  },
  {
   "cell_type": "code",
   "execution_count": 12,
   "id": "196c0c9d",
   "metadata": {},
   "outputs": [],
   "source": [
    "df = pd.read_csv(\"dataset.csv\")"
   ]
  },
  {
   "cell_type": "code",
   "execution_count": 14,
   "id": "e4bd5ee9",
   "metadata": {},
   "outputs": [],
   "source": [
    "del df[\"Data_Point\"]"
   ]
  },
  {
   "cell_type": "code",
   "execution_count": 15,
   "id": "cb217aca",
   "metadata": {},
   "outputs": [
    {
     "data": {
      "text/html": [
       "<div>\n",
       "<style scoped>\n",
       "    .dataframe tbody tr th:only-of-type {\n",
       "        vertical-align: middle;\n",
       "    }\n",
       "\n",
       "    .dataframe tbody tr th {\n",
       "        vertical-align: top;\n",
       "    }\n",
       "\n",
       "    .dataframe thead th {\n",
       "        text-align: right;\n",
       "    }\n",
       "</style>\n",
       "<table border=\"1\" class=\"dataframe\">\n",
       "  <thead>\n",
       "    <tr style=\"text-align: right;\">\n",
       "      <th></th>\n",
       "      <th>Rat_Weight_(g)</th>\n",
       "      <th>Rat_Height_(cm)</th>\n",
       "    </tr>\n",
       "  </thead>\n",
       "  <tbody>\n",
       "    <tr>\n",
       "      <th>0</th>\n",
       "      <td>34.1</td>\n",
       "      <td>56.2</td>\n",
       "    </tr>\n",
       "    <tr>\n",
       "      <th>1</th>\n",
       "      <td>37.2</td>\n",
       "      <td>72.1</td>\n",
       "    </tr>\n",
       "    <tr>\n",
       "      <th>2</th>\n",
       "      <td>32.1</td>\n",
       "      <td>51.9</td>\n",
       "    </tr>\n",
       "    <tr>\n",
       "      <th>3</th>\n",
       "      <td>33.2</td>\n",
       "      <td>55.1</td>\n",
       "    </tr>\n",
       "    <tr>\n",
       "      <th>4</th>\n",
       "      <td>39.1</td>\n",
       "      <td>75.2</td>\n",
       "    </tr>\n",
       "    <tr>\n",
       "      <th>5</th>\n",
       "      <td>36.6</td>\n",
       "      <td>69.1</td>\n",
       "    </tr>\n",
       "    <tr>\n",
       "      <th>6</th>\n",
       "      <td>34.8</td>\n",
       "      <td>60.1</td>\n",
       "    </tr>\n",
       "    <tr>\n",
       "      <th>7</th>\n",
       "      <td>30.2</td>\n",
       "      <td>34.5</td>\n",
       "    </tr>\n",
       "    <tr>\n",
       "      <th>8</th>\n",
       "      <td>29.2</td>\n",
       "      <td>32.1</td>\n",
       "    </tr>\n",
       "  </tbody>\n",
       "</table>\n",
       "</div>"
      ],
      "text/plain": [
       "   Rat_Weight_(g)  Rat_Height_(cm)\n",
       "0            34.1             56.2\n",
       "1            37.2             72.1\n",
       "2            32.1             51.9\n",
       "3            33.2             55.1\n",
       "4            39.1             75.2\n",
       "5            36.6             69.1\n",
       "6            34.8             60.1\n",
       "7            30.2             34.5\n",
       "8            29.2             32.1"
      ]
     },
     "execution_count": 15,
     "metadata": {},
     "output_type": "execute_result"
    }
   ],
   "source": [
    "df"
   ]
  },
  {
   "cell_type": "code",
   "execution_count": 24,
   "id": "7345aa48",
   "metadata": {},
   "outputs": [
    {
     "name": "stdout",
     "output_type": "stream",
     "text": [
      "Este é o coeficiente angular da reta: 4.58753546976284; este é o coeficiente linear da reta: -99.976; e este é o R^2 do modelo preditivo: 0.9623349828370533.\n"
     ]
    }
   ],
   "source": [
    "x = df[\"Rat_Weight_(g)\"]\n",
    "y = df[\"Rat_Height_(cm)\"]\n",
    "\n",
    "coef = regr.find_coef(x, y)\n",
    "intercept = regr.intercept(x, y)\n",
    "r_sq = regr.r_sq(x, y)\n",
    "print(f\"Este é o coeficiente angular da reta: {coef}; este é o coeficiente linear da reta: {intercept}; e este é o R^2 do modelo preditivo: {r_sq}.\")"
   ]
  },
  {
   "cell_type": "code",
   "execution_count": 27,
   "id": "998d38b7",
   "metadata": {},
   "outputs": [],
   "source": [
    "Predicted_Data = regr.predict(x, y)\n",
    "df[\"Predicted_Rat_Height_(cm)\"] = Predicted_Data\n",
    "pred_y = df[\"Predicted_Rat_Height_(cm)\"]"
   ]
  },
  {
   "cell_type": "code",
   "execution_count": 28,
   "id": "2c4e1af5",
   "metadata": {},
   "outputs": [
    {
     "data": {
      "text/html": [
       "<div>\n",
       "<style scoped>\n",
       "    .dataframe tbody tr th:only-of-type {\n",
       "        vertical-align: middle;\n",
       "    }\n",
       "\n",
       "    .dataframe tbody tr th {\n",
       "        vertical-align: top;\n",
       "    }\n",
       "\n",
       "    .dataframe thead th {\n",
       "        text-align: right;\n",
       "    }\n",
       "</style>\n",
       "<table border=\"1\" class=\"dataframe\">\n",
       "  <thead>\n",
       "    <tr style=\"text-align: right;\">\n",
       "      <th></th>\n",
       "      <th>Rat_Weight_(g)</th>\n",
       "      <th>Rat_Height_(cm)</th>\n",
       "      <th>Predicted_Rat_Height_(cm)</th>\n",
       "    </tr>\n",
       "  </thead>\n",
       "  <tbody>\n",
       "    <tr>\n",
       "      <th>0</th>\n",
       "      <td>34.1</td>\n",
       "      <td>56.2</td>\n",
       "      <td>56.459446</td>\n",
       "    </tr>\n",
       "    <tr>\n",
       "      <th>1</th>\n",
       "      <td>37.2</td>\n",
       "      <td>72.1</td>\n",
       "      <td>70.680806</td>\n",
       "    </tr>\n",
       "    <tr>\n",
       "      <th>2</th>\n",
       "      <td>32.1</td>\n",
       "      <td>51.9</td>\n",
       "      <td>47.284375</td>\n",
       "    </tr>\n",
       "    <tr>\n",
       "      <th>3</th>\n",
       "      <td>33.2</td>\n",
       "      <td>55.1</td>\n",
       "      <td>52.330664</td>\n",
       "    </tr>\n",
       "    <tr>\n",
       "      <th>4</th>\n",
       "      <td>39.1</td>\n",
       "      <td>75.2</td>\n",
       "      <td>79.397123</td>\n",
       "    </tr>\n",
       "    <tr>\n",
       "      <th>5</th>\n",
       "      <td>36.6</td>\n",
       "      <td>69.1</td>\n",
       "      <td>67.928285</td>\n",
       "    </tr>\n",
       "    <tr>\n",
       "      <th>6</th>\n",
       "      <td>34.8</td>\n",
       "      <td>60.1</td>\n",
       "      <td>59.670721</td>\n",
       "    </tr>\n",
       "    <tr>\n",
       "      <th>7</th>\n",
       "      <td>30.2</td>\n",
       "      <td>34.5</td>\n",
       "      <td>38.568058</td>\n",
       "    </tr>\n",
       "    <tr>\n",
       "      <th>8</th>\n",
       "      <td>29.2</td>\n",
       "      <td>32.1</td>\n",
       "      <td>33.980522</td>\n",
       "    </tr>\n",
       "  </tbody>\n",
       "</table>\n",
       "</div>"
      ],
      "text/plain": [
       "   Rat_Weight_(g)  Rat_Height_(cm)  Predicted_Rat_Height_(cm)\n",
       "0            34.1             56.2                  56.459446\n",
       "1            37.2             72.1                  70.680806\n",
       "2            32.1             51.9                  47.284375\n",
       "3            33.2             55.1                  52.330664\n",
       "4            39.1             75.2                  79.397123\n",
       "5            36.6             69.1                  67.928285\n",
       "6            34.8             60.1                  59.670721\n",
       "7            30.2             34.5                  38.568058\n",
       "8            29.2             32.1                  33.980522"
      ]
     },
     "execution_count": 28,
     "metadata": {},
     "output_type": "execute_result"
    }
   ],
   "source": [
    "df"
   ]
  },
  {
   "cell_type": "code",
   "execution_count": 30,
   "id": "00216387",
   "metadata": {},
   "outputs": [
    {
     "data": {
      "image/png": "[encoded data removed]",
      "text/plain": [
       "<Figure size 640x480 with 1 Axes>"
      ]
     },
     "metadata": {},
     "output_type": "display_data"
    }
   ],
   "source": [
    "x, y, pred_y = zip(*sorted(zip(x, y, pred_y)))\n",
    "\n",
    "plt.plot(x, y, 'o', label=\"Data Points\")\n",
    "plt.plot(x, pred_y, label=\"Predicted\")\n",
    "plt.legend()\n",
    "plt.show()"
   ]
  }
 ],
 "metadata": {
  "kernelspec": {
   "display_name": "Python 3 (ipykernel)",
   "language": "python",
   "name": "python3"
  },
  "language_info": {
   "codemirror_mode": {
    "name": "ipython",
    "version": 3
   },
   "file_extension": ".py",
   "mimetype": "text/x-python",
   "name": "python",
   "nbconvert_exporter": "python",
   "pygments_lexer": "ipython3",
   "version": "3.9.13"
  }
 },
 "nbformat": 4,
 "nbformat_minor": 5
}
